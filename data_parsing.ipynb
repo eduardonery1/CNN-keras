{
 "cells": [
  {
   "cell_type": "code",
   "execution_count": 2,
   "metadata": {},
   "outputs": [],
   "source": [
    "import numpy as np\n",
    "import matplotlib.pyplot as plt\n",
    "import os\n",
    "import cv2\n",
    "from tqdm import tqdm"
   ]
  },
  {
   "cell_type": "code",
   "execution_count": 1,
   "metadata": {},
   "outputs": [],
   "source": [
    "#DATADIR = \"Users\\Eduar\\Downloads\\diagnosticadorcovid\\Data\"\n",
    "DATADIR = os.getcwd()\n",
    "CATEGORIES = [\"COVID\", \"COVID ARDS\", \"COVID TOMOGRAFIA\", \"NORMAL\", \"NOT\", \"PNEUMONIA\"]\n",
    "IMG_SIZE = 50"
   ]
  },
  {
   "cell_type": "code",
   "execution_count": 3,
   "metadata": {},
   "outputs": [
    {
     "output_type": "stream",
     "name": "stderr",
     "text": "100%|██████████| 64/64 [00:01<00:00, 43.75it/s]\n100%|██████████| 8/8 [00:00<00:00, 72.14it/s]\n100%|██████████| 349/349 [00:05<00:00, 61.11it/s]\n100%|██████████| 64/64 [00:01<00:00, 61.76it/s]\n100%|██████████| 38/38 [00:00<00:00, 53.65it/s]\n100%|██████████| 63/63 [00:01<00:00, 54.31it/s]\n"
    }
   ],
   "source": [
    "def data_parse():\n",
    "    training_data = []\n",
    "    for category in CATEGORIES:\n",
    "        path = os.path.join(\"c:\\\\\", DATADIR + \"\\\\Data\", category)\n",
    "        label_num = CATEGORIES.index(category)\n",
    "        for img in tqdm(os.listdir(path)):\n",
    "            try:\n",
    "                img_array = cv2.imread(os.path.join(path, img), cv2.IMREAD_GRAYSCALE)\n",
    "                img_formated = cv2.resize(img_array, (IMG_SIZE, IMG_SIZE))\n",
    "                training_data.append([img_formated, label_num])\n",
    "            except Exception as e:\n",
    "                pass\n",
    "    return training_data\n",
    "train = data_parse()"
   ]
  },
  {
   "cell_type": "code",
   "execution_count": 4,
   "metadata": {},
   "outputs": [],
   "source": [
    "import random\n",
    "random.shuffle(train)"
   ]
  },
  {
   "cell_type": "code",
   "execution_count": 5,
   "metadata": {},
   "outputs": [],
   "source": [
    "X, y = [], []\n",
    "for feature, label in train:\n",
    "    X.append(feature)\n",
    "    y.append(label)\n",
    "X = np.array(X).reshape(-1, IMG_SIZE, IMG_SIZE, 1)\n",
    "y = np.array(y).reshape(len(y), 1)"
   ]
  },
  {
   "cell_type": "code",
   "execution_count": 6,
   "metadata": {},
   "outputs": [],
   "source": [
    "import pickle\n",
    "\n",
    "pickle_out = open(\"X_train.pickle\",\"wb\")\n",
    "pickle.dump(X, pickle_out)\n",
    "pickle_out.close()\n",
    "\n",
    "pickle_out = open(\"y_train.pickle\",\"wb\")\n",
    "pickle.dump(y, pickle_out)\n",
    "pickle_out.close()"
   ]
  },
  {
   "cell_type": "code",
   "execution_count": null,
   "metadata": {},
   "outputs": [],
   "source": []
  }
 ],
 "metadata": {
  "language_info": {
   "codemirror_mode": {
    "name": "ipython",
    "version": 3
   },
   "file_extension": ".py",
   "mimetype": "text/x-python",
   "name": "python",
   "nbconvert_exporter": "python",
   "pygments_lexer": "ipython3",
   "version": "3.8.3-final"
  },
  "orig_nbformat": 2,
  "kernelspec": {
   "name": "python38364bit2c7cc2a2fce94c6ba4531b688f792af2",
   "display_name": "Python 3.8.3 64-bit"
  }
 },
 "nbformat": 4,
 "nbformat_minor": 2
}